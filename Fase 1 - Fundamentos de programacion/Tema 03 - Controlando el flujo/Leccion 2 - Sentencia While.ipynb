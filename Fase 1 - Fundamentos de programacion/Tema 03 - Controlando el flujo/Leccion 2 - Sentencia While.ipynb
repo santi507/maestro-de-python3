{
 "cells": [
  {
   "cell_type": "code",
   "execution_count": 1,
   "metadata": {},
   "outputs": [
    {
     "name": "stdout",
     "output_type": "stream",
     "text": [
      "c vale 1\n",
      "c vale 2\n",
      "c vale 3\n",
      "c vale 4\n",
      "c vale 5\n",
      "c vale 6\n"
     ]
    }
   ],
   "source": [
    "c = 0\n",
    "while c <= 5:\n",
    "    c += 1\n",
    "    print('c vale',c)"
   ]
  },
  {
   "cell_type": "code",
   "execution_count": 2,
   "metadata": {},
   "outputs": [
    {
     "name": "stdout",
     "output_type": "stream",
     "text": [
      "c vale 1\n",
      "c vale 2\n",
      "c vale 3\n",
      "c vale 4\n",
      "c vale 5\n",
      "c vale 6\n",
      "Se ha completado toda la iteración y se vale 6\n"
     ]
    }
   ],
   "source": [
    "c = 0\n",
    "while c <= 5:\n",
    "    c += 1\n",
    "    print('c vale',c)\n",
    "else:\n",
    "    print('Se ha completado toda la iteración y se vale',c)"
   ]
  },
  {
   "cell_type": "code",
   "execution_count": 3,
   "metadata": {},
   "outputs": [
    {
     "name": "stdout",
     "output_type": "stream",
     "text": [
      "c vale 1\n",
      "c vale 2\n",
      "c vale 3\n",
      "Rompemos el bucle cuando c vale 4\n"
     ]
    }
   ],
   "source": [
    "c = 0\n",
    "while c <= 5:\n",
    "    c += 1\n",
    "    if(c==4):\n",
    "        print(\"Rompemos el bucle cuando c vale\",c)\n",
    "        break\n",
    "    print('c vale',c)\n",
    "else:\n",
    "    print('Se ha completado toda la iteración y se vale',c)"
   ]
  },
  {
   "cell_type": "code",
   "execution_count": 4,
   "metadata": {},
   "outputs": [
    {
     "name": "stdout",
     "output_type": "stream",
     "text": [
      "c vale 1\n",
      "c vale 2\n",
      "c vale 3\n",
      "Continuamos con la siguiente iteración 4\n",
      "c vale 5\n",
      "c vale 6\n",
      "Se ha completado toda la iteración y se vale 6\n"
     ]
    }
   ],
   "source": [
    "c = 0\n",
    "while c <= 5:\n",
    "    c += 1\n",
    "    if(c==4):\n",
    "        print(\"Continuamos con la siguiente iteración\",c)\n",
    "        continue\n",
    "    print('c vale',c)\n",
    "else:\n",
    "    print('Se ha completado toda la iteración y se vale',c)"
   ]
  },
  {
   "cell_type": "code",
   "execution_count": 5,
   "metadata": {},
   "outputs": [
    {
     "name": "stdout",
     "output_type": "stream",
     "text": [
      "Bienvenido al menú interactivo\n",
      "\n",
      "    1) Saludar\n",
      "    2) Sumar dos números\n",
      "    3) Salir\n",
      "    \n",
      "1\n",
      "Hola, saludos\n",
      "\n",
      "    1) Saludar\n",
      "    2) Sumar dos números\n",
      "    3) Salir\n",
      "    \n",
      "2\n",
      "Introduce el primer número: 3\n",
      "Introduce el segundo número: 6\n",
      "El resultado de la suma es:  9.0\n",
      "\n",
      "    1) Saludar\n",
      "    2) Sumar dos números\n",
      "    3) Salir\n",
      "    \n",
      "3\n",
      "Bye...\n"
     ]
    }
   ],
   "source": [
    "print(\"Bienvenido al menú interactivo\")\n",
    "while(True):\n",
    "    print(\"\"\"\n",
    "    1) Saludar\n",
    "    2) Sumar dos números\n",
    "    3) Salir\n",
    "    \"\"\")\n",
    "    opcion = input()\n",
    "    if opcion == '1':\n",
    "        print('Hola, saludos')\n",
    "    elif opcion == '2':\n",
    "        n1 = float(input(\"Introduce el primer número: \"))\n",
    "        n2 = float(input(\"Introduce el segundo número: \"))\n",
    "        print('El resultado de la suma es: ',n1 + n2 )\n",
    "    elif opcion == '3':\n",
    "        print('Bye...')\n",
    "        break\n",
    "    else:\n",
    "        print('Comando desconocido, vuelve a intentar')"
   ]
  },
  {
   "cell_type": "code",
   "execution_count": null,
   "metadata": {
    "collapsed": true
   },
   "outputs": [],
   "source": []
  }
 ],
 "metadata": {
  "kernelspec": {
   "display_name": "Python 3",
   "language": "python",
   "name": "python3"
  },
  "language_info": {
   "codemirror_mode": {
    "name": "ipython",
    "version": 3
   },
   "file_extension": ".py",
   "mimetype": "text/x-python",
   "name": "python",
   "nbconvert_exporter": "python",
   "pygments_lexer": "ipython3",
   "version": "3.6.3"
  }
 },
 "nbformat": 4,
 "nbformat_minor": 1
}
