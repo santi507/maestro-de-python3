{
 "cells": [
  {
   "cell_type": "code",
   "execution_count": 3,
   "metadata": {},
   "outputs": [
    {
     "name": "stdout",
     "output_type": "stream",
     "text": [
      "Se cumple la condición\n",
      "Se muestra este print\n"
     ]
    }
   ],
   "source": [
    "if not False:\n",
    "    print('Se cumple la condición')\n",
    "    print('Se muestra este print')"
   ]
  },
  {
   "cell_type": "code",
   "execution_count": 4,
   "metadata": {},
   "outputs": [
    {
     "name": "stdout",
     "output_type": "stream",
     "text": [
      "a vale 5\n"
     ]
    }
   ],
   "source": [
    "a = 5\n",
    "if a == 2:\n",
    "    print(\"a vale 2\")\n",
    "if a == 5:\n",
    "    print(\"a vale 5\")"
   ]
  },
  {
   "cell_type": "code",
   "execution_count": 5,
   "metadata": {},
   "outputs": [
    {
     "name": "stdout",
     "output_type": "stream",
     "text": [
      "a vale  5\n",
      "y b vale 10\n"
     ]
    }
   ],
   "source": [
    "a = 5\n",
    "b = 10\n",
    "if a == 5:\n",
    "    print (\"a vale \",a)\n",
    "    if b == 10:\n",
    "        print(\"y b vale\",b)"
   ]
  },
  {
   "cell_type": "code",
   "execution_count": 6,
   "metadata": {},
   "outputs": [
    {
     "name": "stdout",
     "output_type": "stream",
     "text": [
      "a vale 5 y b vale 10\n"
     ]
    }
   ],
   "source": [
    "if a == 5 and b == 10:\n",
    "    print(\"a vale 5 y b vale 10\")"
   ]
  },
  {
   "cell_type": "code",
   "execution_count": 8,
   "metadata": {},
   "outputs": [
    {
     "name": "stdout",
     "output_type": "stream",
     "text": [
      "es un número impar\n"
     ]
    }
   ],
   "source": [
    "n = 11\n",
    "if n % 2 == 0:\n",
    "    print(n,\"es un número par\")\n",
    "else:\n",
    "    print('es un número impar')"
   ]
  },
  {
   "cell_type": "code",
   "execution_count": 10,
   "metadata": {},
   "outputs": [
    {
     "name": "stdout",
     "output_type": "stream",
     "text": [
      "Saliendo del sistema...\n"
     ]
    }
   ],
   "source": [
    "comando = \"SALIR\"\n",
    "if comando == \"ENTRAR\":\n",
    "    print('Bienvenido al sistema')\n",
    "elif comando == \"SALUDAR\":\n",
    "    print (\"hola, saludos\")\n",
    "elif comando == \"SALIR\":\n",
    "    print('Saliendo del sistema...')\n",
    "else:\n",
    "    print('Este comando no se reconoce')\n",
    "        "
   ]
  },
  {
   "cell_type": "code",
   "execution_count": 11,
   "metadata": {},
   "outputs": [
    {
     "name": "stdout",
     "output_type": "stream",
     "text": [
      "Introduce una nota: 10\n",
      "Sobresaliente\n"
     ]
    }
   ],
   "source": [
    "nota = float(input(\"Introduce una nota: \"))\n",
    "if nota >= 9:\n",
    "    print('Sobresaliente')\n",
    "elif nota >= 7:\n",
    "    print(\"Notable\")\n",
    "elif nota >= 6:\n",
    "    print(\"Bien\")\n",
    "elif nota >= 5:\n",
    "    print('Suficiente')\n",
    "else:\n",
    "    print('Insuficiente')"
   ]
  },
  {
   "cell_type": "code",
   "execution_count": 12,
   "metadata": {
    "collapsed": true
   },
   "outputs": [],
   "source": [
    "if True:\n",
    "    pass"
   ]
  },
  {
   "cell_type": "code",
   "execution_count": null,
   "metadata": {
    "collapsed": true
   },
   "outputs": [],
   "source": []
  }
 ],
 "metadata": {
  "kernelspec": {
   "display_name": "Python 3",
   "language": "python",
   "name": "python3"
  },
  "language_info": {
   "codemirror_mode": {
    "name": "ipython",
    "version": 3
   },
   "file_extension": ".py",
   "mimetype": "text/x-python",
   "name": "python",
   "nbconvert_exporter": "python",
   "pygments_lexer": "ipython3",
   "version": "3.6.3"
  }
 },
 "nbformat": 4,
 "nbformat_minor": 1
}
