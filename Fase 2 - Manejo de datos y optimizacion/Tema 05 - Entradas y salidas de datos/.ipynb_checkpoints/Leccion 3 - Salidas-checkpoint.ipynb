{
 "cells": [
  {
   "cell_type": "code",
   "execution_count": 1,
   "metadata": {},
   "outputs": [
    {
     "name": "stdout",
     "output_type": "stream",
     "text": [
      "Un texto otro texto y un número 10\n"
     ]
    }
   ],
   "source": [
    "v = \"otro texto\"\n",
    "n = 10\n",
    "print(\"Un texto\", v, \"y un número\", n)"
   ]
  },
  {
   "cell_type": "code",
   "execution_count": 2,
   "metadata": {},
   "outputs": [
    {
     "data": {
      "text/plain": [
       "'Un texto otro texto y un número 10'"
      ]
     },
     "execution_count": 2,
     "metadata": {},
     "output_type": "execute_result"
    }
   ],
   "source": [
    "c = \"Un texto {} y un número {}\".format(v, n)\n",
    "c"
   ]
  },
  {
   "cell_type": "code",
   "execution_count": 3,
   "metadata": {},
   "outputs": [
    {
     "name": "stdout",
     "output_type": "stream",
     "text": [
      "Un texto otro texto y un número 10\n"
     ]
    }
   ],
   "source": [
    "print(c)"
   ]
  },
  {
   "cell_type": "code",
   "execution_count": 4,
   "metadata": {},
   "outputs": [
    {
     "name": "stdout",
     "output_type": "stream",
     "text": [
      "Un texto otro texto y un número 10\n"
     ]
    }
   ],
   "source": [
    "print(\"Un texto {0} y un número {1}\".format(v, n))"
   ]
  },
  {
   "cell_type": "code",
   "execution_count": 5,
   "metadata": {},
   "outputs": [
    {
     "name": "stdout",
     "output_type": "stream",
     "text": [
      "Un texto 10 y un número otro texto\n"
     ]
    }
   ],
   "source": [
    "print(\"Un texto {1} y un número {0}\".format(v, n))"
   ]
  },
  {
   "cell_type": "code",
   "execution_count": 6,
   "metadata": {},
   "outputs": [
    {
     "name": "stdout",
     "output_type": "stream",
     "text": [
      "Un texto otro texto y un número 10\n"
     ]
    }
   ],
   "source": [
    "print(\"Un texto {texto} y un número {numero}\".format(texto = v, numero = n))"
   ]
  },
  {
   "cell_type": "code",
   "execution_count": 10,
   "metadata": {},
   "outputs": [
    {
     "name": "stdout",
     "output_type": "stream",
     "text": [
      "Un texto otro texto y un número 10\n"
     ]
    }
   ],
   "source": [
    "print(\"Un texto {t} y un número {n}\".format(t = v, n = n))"
   ]
  },
  {
   "cell_type": "code",
   "execution_count": 13,
   "metadata": {},
   "outputs": [
    {
     "name": "stdout",
     "output_type": "stream",
     "text": [
      "otro texto,otro texto,otro texto\n"
     ]
    }
   ],
   "source": [
    "print(\"{v},{v},{v}\".format(v=v))"
   ]
  },
  {
   "cell_type": "code",
   "execution_count": 14,
   "metadata": {},
   "outputs": [
    {
     "name": "stdout",
     "output_type": "stream",
     "text": [
      "                       palabra\n"
     ]
    }
   ],
   "source": [
    "print(\"{:>30}\".format(\"palabra\")) #Alineado a la derecha en 30 caracteres"
   ]
  },
  {
   "cell_type": "code",
   "execution_count": 15,
   "metadata": {},
   "outputs": [
    {
     "name": "stdout",
     "output_type": "stream",
     "text": [
      "palabra                       \n"
     ]
    }
   ],
   "source": [
    "print(\"{:30}\".format(\"palabra\")) #Alineado a la izquierda en 30 caracteres"
   ]
  },
  {
   "cell_type": "code",
   "execution_count": 16,
   "metadata": {},
   "outputs": [
    {
     "name": "stdout",
     "output_type": "stream",
     "text": [
      "           palabra            \n"
     ]
    }
   ],
   "source": [
    "print(\"{:^30}\".format(\"palabra\")) #Alineado al centro en 30 caracteres"
   ]
  },
  {
   "cell_type": "code",
   "execution_count": 18,
   "metadata": {},
   "outputs": [
    {
     "name": "stdout",
     "output_type": "stream",
     "text": [
      "pala\n"
     ]
    }
   ],
   "source": [
    "print(\"{:.4}\".format(\"palabra\")) #Truncamiento a 3 caracteres"
   ]
  },
  {
   "cell_type": "code",
   "execution_count": 19,
   "metadata": {},
   "outputs": [
    {
     "name": "stdout",
     "output_type": "stream",
     "text": [
      "                           pal\n"
     ]
    }
   ],
   "source": [
    "print(\"{:>30.3}\".format(\"palabra\")) #Alineado a la derecha en 30 caracteres con truncamiento de 3"
   ]
  },
  {
   "cell_type": "code",
   "execution_count": 21,
   "metadata": {},
   "outputs": [
    {
     "name": "stdout",
     "output_type": "stream",
     "text": [
      "  10\n",
      " 100\n",
      "1000\n"
     ]
    }
   ],
   "source": [
    "# Formateo de números enteros, rellenados con espacios\n",
    "print(\"{:4d}\".format(10))\n",
    "print(\"{:4d}\".format(100))\n",
    "print(\"{:4d}\".format(1000))"
   ]
  },
  {
   "cell_type": "code",
   "execution_count": 22,
   "metadata": {},
   "outputs": [
    {
     "name": "stdout",
     "output_type": "stream",
     "text": [
      "0010\n",
      "0100\n",
      "1000\n"
     ]
    }
   ],
   "source": [
    "# Formateo de números enteros, rellenados con ceros\n",
    "print(\"{:04d}\".format(10))\n",
    "print(\"{:04d}\".format(100))\n",
    "print(\"{:04d}\".format(1000))"
   ]
  },
  {
   "cell_type": "code",
   "execution_count": 23,
   "metadata": {},
   "outputs": [
    {
     "name": "stdout",
     "output_type": "stream",
     "text": [
      "3.1415926\n"
     ]
    }
   ],
   "source": [
    "# Formateo de números flotantes, rellenados con espacios\n",
    "print(\"{}\".format(3.1415926))"
   ]
  },
  {
   "cell_type": "code",
   "execution_count": 26,
   "metadata": {},
   "outputs": [
    {
     "name": "stdout",
     "output_type": "stream",
     "text": [
      "3.142\n",
      "153.210\n"
     ]
    }
   ],
   "source": [
    "# Formateo de números flotantes, rellenados con espacios\n",
    "print(\"{:.3f}\".format(3.1415926))\n",
    "print(\"{:.3f}\".format(153.21))"
   ]
  },
  {
   "cell_type": "code",
   "execution_count": 27,
   "metadata": {},
   "outputs": [
    {
     "name": "stdout",
     "output_type": "stream",
     "text": [
      "  3.142\n",
      "153.210\n"
     ]
    }
   ],
   "source": [
    "# Formateo de números flotantes, rellenados con espacios\n",
    "print(\"{:7.3f}\".format(3.1415926))\n",
    "print(\"{:7.3f}\".format(153.21))"
   ]
  },
  {
   "cell_type": "code",
   "execution_count": 28,
   "metadata": {},
   "outputs": [
    {
     "name": "stdout",
     "output_type": "stream",
     "text": [
      "003.142\n",
      "153.210\n"
     ]
    }
   ],
   "source": [
    "# Formateo de números flotantes, rellenados con espacios\n",
    "print(\"{:07.3f}\".format(3.1415926))\n",
    "print(\"{:07.3f}\".format(153.21))"
   ]
  },
  {
   "cell_type": "code",
   "execution_count": null,
   "metadata": {
    "collapsed": true
   },
   "outputs": [],
   "source": []
  }
 ],
 "metadata": {
  "kernelspec": {
   "display_name": "Python 3",
   "language": "python",
   "name": "python3"
  },
  "language_info": {
   "codemirror_mode": {
    "name": "ipython",
    "version": 3
   },
   "file_extension": ".py",
   "mimetype": "text/x-python",
   "name": "python",
   "nbconvert_exporter": "python",
   "pygments_lexer": "ipython3",
   "version": "3.6.3"
  }
 },
 "nbformat": 4,
 "nbformat_minor": 1
}
